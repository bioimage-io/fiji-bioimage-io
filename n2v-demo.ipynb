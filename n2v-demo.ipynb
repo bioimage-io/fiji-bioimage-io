{
 "cells": [
  {
   "cell_type": "markdown",
   "metadata": {},
   "source": [
    "# ImageJ with Python Kernel"
   ]
  },
  {
   "cell_type": "markdown",
   "metadata": {},
   "source": [
    "This notebook covers how to use ImageJ as a library from Python. A major advantage of this approach is the ability to combine ImageJ with other tools available from the Python software ecosystem, including [NumPy](https://www.numpy.org/), [SciPy](https://www.scipy.org/), [scikit-image](https://scikit-image.org/), [CellProfiler](https://cellprofiler.org/), [OpenCV](https://opencv.org/), [ITK](https://itk.org/) and more.\n",
    "\n",
    "This notebook assumes familiarity with the ImageJ API. Detailed tutorials in that regard can be found in the [other notebooks](../ImageJ-Tutorials-and-Demo.ipynb)."
   ]
  },
  {
   "cell_type": "markdown",
   "metadata": {},
   "source": [
    "# Installing N2V in Fiji"
   ]
  },
  {
   "cell_type": "code",
   "execution_count": null,
   "metadata": {},
   "outputs": [],
   "source": [
    "%%bash\n",
    "wget https://github.com/juglab/N2V_fiji/blob/master/src/test/resources/format-0.2.0-csbdeep.bioimage.io.zip?raw=true -O format-0.2.0-csbdeep.bioimage.io.zip\n"
   ]
  },
  {
   "cell_type": "code",
   "execution_count": null,
   "metadata": {},
   "outputs": [],
   "source": [
    "!unzip format-0.2.0-csbdeep.bioimage.io.zip testinput.tif"
   ]
  },
  {
   "cell_type": "markdown",
   "metadata": {},
   "source": [
    "## Starting ImageJ from Python"
   ]
  },
  {
   "cell_type": "markdown",
   "metadata": {},
   "source": [
    "The [pyimagej](https://pypi.org/project/pyimagej/) module enables access to the entire ImageJ API from Python in a natural way.\n",
    "\n",
    "Let's initialize an ImageJ gateway including Fiji plugins, at a reproducible version:"
   ]
  },
  {
   "cell_type": "code",
   "execution_count": null,
   "metadata": {},
   "outputs": [],
   "source": [
    "import imagej\n",
    "import os\n",
    "ij = imagej.init(os.path.expanduser(\"~\") + '/Fiji.app',headless=True)\n",
    "ij.getVersion()"
   ]
  },
  {
   "cell_type": "markdown",
   "metadata": {},
   "source": [
    "# Run N2V training and prediction"
   ]
  },
  {
   "cell_type": "code",
   "execution_count": null,
   "metadata": {
    "scrolled": true
   },
   "outputs": [],
   "source": [
    "modelPath = \"/home/jovyan/format-0.2.0-csbdeep.bioimage.io.zip\"\n",
    "inputPath = \"/home/jovyan/testinput.tif\"\n",
    "outputPath = \"/home/jovyan/output.tif\"\n",
    "args = { \n",
    "    'training': inputPath,\n",
    "    'prediction': inputPath,\n",
    "    'output': outputPath,\n",
    "    'axes': 'XY',\n",
    "    'mode3d': False,\n",
    "    'numepochs': 2,\n",
    "    'numstepsperepoch': 4,\n",
    "    'batchsize': 8,\n",
    "    'patchshape': 16,\n",
    "    'neighborhoodradius': 5\n",
    "}\n",
    "modelzoo_service = ij.context().getService('net.imagej.modelzoo.ModelZooService')\n",
    "model = modelzoo_service.io().open(modelPath)\n",
    "img = ij.io().open(inputPath)\n",
    "output = modelzoo_service.predict(model, img, args['axes'])\n",
    "dataset = ij.dataset().create(output.get('output'))\n",
    "ij.io().save(dataset, outputPath)"
   ]
  },
  {
   "cell_type": "code",
   "execution_count": null,
   "metadata": {},
   "outputs": [],
   "source": [
    "img = ij.io().open(inputPath)\n",
    "ij.py.show(img)\n",
    "img = ij.io().open(outputPath)\n",
    "ij.py.show(img)"
   ]
  }
 ],
 "metadata": {
  "kernelspec": {
   "display_name": "Python 3",
   "language": "python",
   "name": "python3"
  },
  "language_info": {
   "codemirror_mode": {
    "name": "ipython",
    "version": 3
   },
   "file_extension": ".py",
   "mimetype": "text/x-python",
   "name": "python",
   "nbconvert_exporter": "python",
   "pygments_lexer": "ipython3",
   "version": "3.7.10"
  },
  "nteract": {
   "version": "0.26.0"
  },
  "toc": {
   "base_numbering": 1,
   "nav_menu": {},
   "number_sections": true,
   "sideBar": true,
   "skip_h1_title": true,
   "title_cell": "Table of Contents",
   "title_sidebar": "Contents",
   "toc_cell": false,
   "toc_position": {
    "height": "calc(100% - 180px)",
    "left": "10px",
    "top": "150px",
    "width": "307px"
   },
   "toc_section_display": true,
   "toc_window_display": true
  }
 },
 "nbformat": 4,
 "nbformat_minor": 4
}
